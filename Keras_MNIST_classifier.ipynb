{
  "nbformat": 4,
  "nbformat_minor": 0,
  "metadata": {
    "colab": {
      "name": "Keras_MNIST_classifier.ipynb",
      "provenance": [],
      "collapsed_sections": []
    },
    "kernelspec": {
      "name": "python3",
      "display_name": "Python 3"
    }
  },
  "cells": [
    {
      "cell_type": "code",
      "metadata": {
        "id": "bEoUMrvY3YvU",
        "colab_type": "code",
        "colab": {}
      },
      "source": [
        "#import libraries\n",
        "import keras\n",
        "from keras.models import Sequential\n",
        "from keras.layers import Dropout, Dense, Flatten\n",
        "from keras.layers import MaxPooling2D, Conv2D\n",
        "from keras.datasets import mnist"
      ],
      "execution_count": 0,
      "outputs": []
    },
    {
      "cell_type": "code",
      "metadata": {
        "id": "32Fm4tQR3hLM",
        "colab_type": "code",
        "colab": {}
      },
      "source": [
        "#load mnist dataset\n",
        "(x_train,y_train),(x_test,y_test) = mnist.load_data()\n",
        "x_train, x_test = x_train/255, x_test/255"
      ],
      "execution_count": 0,
      "outputs": []
    },
    {
      "cell_type": "code",
      "metadata": {
        "id": "fMAIgKiTC0K4",
        "colab_type": "code",
        "outputId": "deaeefa7-73ca-4c79-e6d9-a29a1da53ebe",
        "colab": {
          "base_uri": "https://localhost:8080/",
          "height": 54
        }
      },
      "source": [
        "#getting the data shape the data type\n",
        "print (x_train[1].shape)\n",
        "print (type(x_train))"
      ],
      "execution_count": 9,
      "outputs": [
        {
          "output_type": "stream",
          "text": [
            "(28, 28)\n",
            "<class 'numpy.ndarray'>\n"
          ],
          "name": "stdout"
        }
      ]
    },
    {
      "cell_type": "code",
      "metadata": {
        "id": "O3RAOYQG46Kl",
        "colab_type": "code",
        "colab": {}
      },
      "source": [
        "#Initiation of model\n",
        "model = Sequential()\n",
        "model.add(Flatten())\n",
        "model.add(Dense(120,activation = 'relu',input_shape=(784,)))\n",
        "model.add(Dropout(0.2))\n",
        "model.add(Dense(28,activation = 'relu',input_shape=(120,)))\n",
        "model.add(Dropout(0.3))\n",
        "model.add(Dense(10,activation = 'softmax',input_shape=(28,)))\n",
        "model.compile(optimizer='adam',loss='sparse_categorical_crossentropy',metrics=['accuracy'])"
      ],
      "execution_count": 0,
      "outputs": []
    },
    {
      "cell_type": "code",
      "metadata": {
        "id": "tplBDPHV4xZl",
        "colab_type": "code",
        "outputId": "25f3b4b9-b572-434c-8cb1-7408bb1390ae",
        "colab": {
          "base_uri": "https://localhost:8080/",
          "height": 581
        }
      },
      "source": [
        "#Fitting the model into the training data\n",
        "model.fit(x_test,y_test,epochs=15,verbose=1,batch_size=10)\n",
        "model.evaluate(x_test,y_test,verbose=2)"
      ],
      "execution_count": 11,
      "outputs": [
        {
          "output_type": "stream",
          "text": [
            "Epoch 1/15\n",
            "10000/10000 [==============================] - 3s 321us/step - loss: 0.7019 - acc: 0.7848\n",
            "Epoch 2/15\n",
            "10000/10000 [==============================] - 3s 287us/step - loss: 0.3458 - acc: 0.8971\n",
            "Epoch 3/15\n",
            "10000/10000 [==============================] - 3s 285us/step - loss: 0.2717 - acc: 0.9195\n",
            "Epoch 4/15\n",
            "10000/10000 [==============================] - 3s 289us/step - loss: 0.2184 - acc: 0.9346\n",
            "Epoch 5/15\n",
            "10000/10000 [==============================] - 3s 303us/step - loss: 0.1910 - acc: 0.9411\n",
            "Epoch 6/15\n",
            "10000/10000 [==============================] - 3s 292us/step - loss: 0.1588 - acc: 0.9533\n",
            "Epoch 7/15\n",
            "10000/10000 [==============================] - 3s 288us/step - loss: 0.1349 - acc: 0.9575\n",
            "Epoch 8/15\n",
            "10000/10000 [==============================] - 3s 313us/step - loss: 0.1172 - acc: 0.9631\n",
            "Epoch 9/15\n",
            "10000/10000 [==============================] - 3s 296us/step - loss: 0.1179 - acc: 0.9623\n",
            "Epoch 10/15\n",
            "10000/10000 [==============================] - 3s 328us/step - loss: 0.1015 - acc: 0.9687\n",
            "Epoch 11/15\n",
            "10000/10000 [==============================] - 3s 322us/step - loss: 0.0895 - acc: 0.9713\n",
            "Epoch 12/15\n",
            "10000/10000 [==============================] - 3s 322us/step - loss: 0.0825 - acc: 0.9738\n",
            "Epoch 13/15\n",
            "10000/10000 [==============================] - 3s 328us/step - loss: 0.0889 - acc: 0.9711\n",
            "Epoch 14/15\n",
            "10000/10000 [==============================] - 3s 327us/step - loss: 0.0648 - acc: 0.9785\n",
            "Epoch 15/15\n",
            "10000/10000 [==============================] - 3s 335us/step - loss: 0.0690 - acc: 0.9763\n"
          ],
          "name": "stdout"
        },
        {
          "output_type": "execute_result",
          "data": {
            "text/plain": [
              "[0.01327246039144011, 0.9957]"
            ]
          },
          "metadata": {
            "tags": []
          },
          "execution_count": 11
        }
      ]
    },
    {
      "cell_type": "code",
      "metadata": {
        "id": "JhewwOoP8aj8",
        "colab_type": "code",
        "colab": {}
      },
      "source": [
        ""
      ],
      "execution_count": 0,
      "outputs": []
    }
  ]
}